{
  "nbformat": 4,
  "nbformat_minor": 0,
  "metadata": {
    "colab": {
      "name": "Welcome To Colaboratory",
      "provenance": [],
      "collapsed_sections": [],
      "include_colab_link": true
    },
    "kernelspec": {
      "display_name": "Python 3",
      "name": "python3"
    }
  },
  "cells": [
    {
      "cell_type": "markdown",
      "metadata": {
        "id": "view-in-github",
        "colab_type": "text"
      },
      "source": [
        "<a href=\"https://colab.research.google.com/github/amashurockz60/AlgorothmDS/blob/master/Merge_Sort.ipynb\" target=\"_parent\"><img src=\"https://colab.research.google.com/assets/colab-badge.svg\" alt=\"Open In Colab\"/></a>"
      ]
    },
    {
      "cell_type": "code",
      "metadata": {
        "id": "hA6VUpY6FkRt",
        "colab_type": "code",
        "colab": {}
      },
      "source": [
        "def mergeList(lst1, lst2):\n",
        "  result = []\n",
        "  l1 = l2 = 0\n",
        "  while(l1 < len(lst1) and l2 < (len(lst2))):\n",
        "    if(lst1[l1] < lst2[l2]):\n",
        "      result.append(lst1[l1])\n",
        "      l1 += 1\n",
        "    else:\n",
        "      result.append(lst2[l2])\n",
        "      l2 += 1\n",
        "  return result + lst1[l1:] + lst2[l2:]\n",
        "\n",
        "def mergeSort(lst):\n",
        "  mid = (len(lst))//2\n",
        "  if(len(lst) > 1):\n",
        "    mergeSort(lst[:mid])\n",
        "    mergeSort(lst[mid:])\n",
        "  return mergeList(lst[:mid], lst[mid:])"
      ],
      "execution_count": 29,
      "outputs": []
    },
    {
      "cell_type": "code",
      "metadata": {
        "id": "w7L_6lv-E9ur",
        "colab_type": "code",
        "colab": {
          "base_uri": "https://localhost:8080/",
          "height": 35
        },
        "outputId": "3a32b3a8-f5da-45f9-ad51-ace8fbc4bc26"
      },
      "source": [
        "mergeSort([2,3,6,0,4,12])"
      ],
      "execution_count": 31,
      "outputs": [
        {
          "output_type": "execute_result",
          "data": {
            "text/plain": [
              "[0, 2, 3, 4, 6, 12]"
            ]
          },
          "metadata": {
            "tags": []
          },
          "execution_count": 31
        }
      ]
    },
    {
      "cell_type": "code",
      "metadata": {
        "id": "6yGkudnXGdIZ",
        "colab_type": "code",
        "colab": {}
      },
      "source": [
        "# Time : O(n) = nlogn\n",
        "# Space : O(n) = n"
      ],
      "execution_count": null,
      "outputs": []
    }
  ]
}