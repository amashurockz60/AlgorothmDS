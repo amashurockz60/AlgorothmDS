{
 "cells": [
  {
   "cell_type": "code",
   "execution_count": 8,
   "metadata": {},
   "outputs": [],
   "source": [
    "# Next permutation, inline\n",
    "# O(N)\n",
    "class Solution:\n",
    "    def nextPermutation(self, nums):\n",
    "        decreasing = 0\n",
    "        increasing = len(nums) - 1\n",
    "        for i in range(len(nums) - 1, 0, -1):\n",
    "            if(nums[i - 1] < nums[i]):\n",
    "                decreasing = i - 1\n",
    "                break\n",
    "        for i in range(len(nums) - 1, -1, -1):\n",
    "            if(nums[i] > nums[decreasing]):\n",
    "                increasing = i\n",
    "                break\n",
    "        nums[increasing], nums[decreasing] = nums[decreasing], nums[increasing]\n",
    "        #nums = nums[:decreasing + 1] + sorted(nums[decreasing + 1:])\n",
    "        left = decreasing if(decreasing == 0 and increasing == len(nums) - 1) else decreasing + 1\n",
    "        right = len(nums) - 1\n",
    "        while(left < right):\n",
    "            if(nums[left] > nums[right]):\n",
    "                nums[left], nums[right] = nums[right], nums[left]\n",
    "            left += 1\n",
    "            right -= 1"
   ]
  },
  {
   "cell_type": "code",
   "execution_count": 7,
   "metadata": {},
   "outputs": [
    {
     "name": "stdout",
     "output_type": "stream",
     "text": [
      "[1, 2, 3, 4, 5, 6, 7, 8, 9, 10, 11, 12, 13, 14, 15, 16, 17, 18, 19, 20, 21, 22, 23, 24, 25, 26, 27, 28, 29, 30, 31, 32, 33, 34, 35, 36, 37, 38, 39, 40, 41, 42, 43, 44, 45, 46, 47, 48, 49, 50, 51, 52, 53, 54, 55, 56, 57, 58, 59, 60, 61, 62, 63, 64, 65, 66, 67, 68, 69, 70, 71, 72, 73, 74, 75, 76, 77, 78, 79, 80, 81, 82, 83, 84, 85, 86, 87, 88, 89, 90, 91, 92, 93, 94, 95, 96, 97, 98, 99, 100]\n"
     ]
    }
   ],
   "source": [
    "obj = Solution()\n",
    "nums = [100,99,98,97,96,95,94,93,92,91,90,89,88,87,86,85,84,83,82,81,80,79,78,77,76,75,74,73,72,71,70,69,68,67,66,65,64,63,62,61,60,59,58,57,56,55,54,53,52,51,50,49,48,47,46,45,44,43,42,41,40,39,38,37,36,35,34,33,32,31,30,29,28,27,26,25,24,23,22,21,20,19,18,17,16,15,14,13,12,11,10,9,8,7,6,5,4,3,2,1]\n",
    "obj.nextPermutation(nums)\n",
    "print(nums)"
   ]
  },
  {
   "cell_type": "code",
   "execution_count": 42,
   "metadata": {},
   "outputs": [],
   "source": [
    "def mergesort(arr, start, end, temp):\n",
    "    if(start == end):\n",
    "        temp[start] = arr[start]\n",
    "        return 0\n",
    "    mid = (start + end) // 2\n",
    "    result = 0\n",
    "    result += mergesort(arr, start, mid, temp)\n",
    "    result += mergesort(arr, mid + 1, end, temp)\n",
    "    left = k = start\n",
    "    right = mid + 1\n",
    "    while(left <= mid and right <= end):\n",
    "        if(arr[left] <= arr[right]):\n",
    "            temp[k] = arr[left]\n",
    "            left += 1\n",
    "            k += 1\n",
    "        else:\n",
    "            temp[k] = arr[right]\n",
    "            right += 1\n",
    "            k += 1\n",
    "            result += mid - left + 1\n",
    "    while(left <= mid):\n",
    "        temp[k] = arr[left]\n",
    "        left += 1\n",
    "        k += 1\n",
    "    while(right <= end):\n",
    "        temp[k] = arr[right]\n",
    "        right += 1\n",
    "        k += 1\n",
    "    for i in range(start, end + 1):\n",
    "        arr[i] = temp[i]\n",
    "    return result\n",
    "def merge(arr):\n",
    "    temp = [0] * len(arr)\n",
    "    print(mergesort(arr, 0, len(arr) - 1, temp))\n",
    "    print(arr)"
   ]
  },
  {
   "cell_type": "code",
   "execution_count": 43,
   "metadata": {},
   "outputs": [
    {
     "name": "stdout",
     "output_type": "stream",
     "text": [
      "3\n",
      "[1, 2, 3, 4, 5]\n"
     ]
    }
   ],
   "source": [
    "merge([2, 4, 1, 3, 5])"
   ]
  },
  {
   "cell_type": "code",
   "execution_count": 65,
   "metadata": {},
   "outputs": [],
   "source": [
    "class Solution:\n",
    "    def fourSum(self, nums, target):\n",
    "        if(not nums):\n",
    "            return \n",
    "        nums.sort()\n",
    "        final = []\n",
    "        i = 0\n",
    "        while i < len(nums):\n",
    "            j = i + 1\n",
    "            while(j < len(nums)):\n",
    "                required = target - nums[i] - nums[j]\n",
    "                left = j + 1\n",
    "                right = len(nums) - 1\n",
    "                while(left < right):\n",
    "                    result = []\n",
    "                    if(nums[left] + nums[right] < required):\n",
    "                        left += 1\n",
    "                    elif(nums[left] + nums[right] > required):\n",
    "                        right -=1\n",
    "                    else:\n",
    "                        result = [nums[i], nums[j], nums[left], nums[right]]\n",
    "                        final.append(result)\n",
    "                        print(i, j, left, right, result[-2], result[-1])\n",
    "                        while(left < right and nums[left] == result[-2]):\n",
    "                            left += 1\n",
    "                        while(right > left and nums[right] == result[-1]):\n",
    "                            right -= 1\n",
    "                        print(left, right)\n",
    "                curr = nums[j]\n",
    "                j += 1\n",
    "                while((j < len(nums)) and nums[j] == curr):\n",
    "                    j += 1\n",
    "                    print(f\"j: {j}\")\n",
    "                \n",
    "            curr = nums[i]\n",
    "            i += 1\n",
    "            while((i < len(nums)) and nums[i] == curr):\n",
    "                i += 1\n",
    "        return final"
   ]
  },
  {
   "cell_type": "code",
   "execution_count": 66,
   "metadata": {},
   "outputs": [
    {
     "name": "stdout",
     "output_type": "stream",
     "text": [
      "0 1 3 6 1 2\n",
      "5 5\n",
      "j: 3\n",
      "j: 5\n",
      "j: 7\n",
      "1 2 3 4 1 1\n",
      "4 4\n",
      "j: 5\n",
      "j: 7\n",
      "j: 7\n"
     ]
    },
    {
     "data": {
      "text/plain": [
       "[[-2, -1, 1, 2], [-1, -1, 1, 1]]"
      ]
     },
     "execution_count": 66,
     "metadata": {},
     "output_type": "execute_result"
    }
   ],
   "source": [
    "obj = Solution()\n",
    "obj.fourSum([-2,-1,-1,1,1,2,2], 0)"
   ]
  },
  {
   "cell_type": "code",
   "execution_count": 75,
   "metadata": {},
   "outputs": [],
   "source": [
    "import sys\n",
    "def kadane(arr):\n",
    "    result = -sys.maxsize - 1\n",
    "    current = -sys.maxsize - 1\n",
    "    for num in arr:\n",
    "        current = max(num, current + num)\n",
    "        result = max(result, current)\n",
    "    return result"
   ]
  },
  {
   "cell_type": "code",
   "execution_count": 79,
   "metadata": {},
   "outputs": [
    {
     "data": {
      "text/plain": [
       "18"
      ]
     },
     "execution_count": 79,
     "metadata": {},
     "output_type": "execute_result"
    }
   ],
   "source": [
    "kadane([1, 6, 5, 3, 1, 2])"
   ]
  },
  {
   "cell_type": "code",
   "execution_count": 91,
   "metadata": {},
   "outputs": [],
   "source": [
    "def subarr(arr, j, res):\n",
    "    if(j == len(arr)):\n",
    "        print(res)\n",
    "        return\n",
    "    res.append(arr[j])\n",
    "    subarr(arr, j + 1, res)\n",
    "    res.pop()\n",
    "    subarr(arr, j + 1, res)"
   ]
  },
  {
   "cell_type": "code",
   "execution_count": 92,
   "metadata": {},
   "outputs": [
    {
     "name": "stdout",
     "output_type": "stream",
     "text": [
      "[1, 2, 3]\n",
      "[1, 2]\n",
      "[1, 3]\n",
      "[1]\n",
      "[2, 3]\n",
      "[2]\n",
      "[3]\n",
      "[]\n"
     ]
    }
   ],
   "source": [
    "result = []\n",
    "subarr([1,2,3], 0, result)"
   ]
  },
  {
   "cell_type": "code",
   "execution_count": null,
   "metadata": {},
   "outputs": [],
   "source": []
  },
  {
   "cell_type": "code",
   "execution_count": null,
   "metadata": {},
   "outputs": [],
   "source": []
  }
 ],
 "metadata": {
  "kernelspec": {
   "display_name": "Python 3",
   "language": "python",
   "name": "python3"
  },
  "language_info": {
   "codemirror_mode": {
    "name": "ipython",
    "version": 3
   },
   "file_extension": ".py",
   "mimetype": "text/x-python",
   "name": "python",
   "nbconvert_exporter": "python",
   "pygments_lexer": "ipython3",
   "version": "3.8.5"
  }
 },
 "nbformat": 4,
 "nbformat_minor": 4
}
