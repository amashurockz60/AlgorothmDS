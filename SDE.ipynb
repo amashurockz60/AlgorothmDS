{
  "nbformat": 4,
  "nbformat_minor": 0,
  "metadata": {
    "colab": {
      "name": "Untitled0.ipynb",
      "provenance": [],
      "authorship_tag": "ABX9TyPUPONXozHPYs+30lUUuuDS",
      "include_colab_link": true
    },
    "kernelspec": {
      "name": "python3",
      "display_name": "Python 3"
    }
  },
  "cells": [
    {
      "cell_type": "markdown",
      "metadata": {
        "id": "view-in-github",
        "colab_type": "text"
      },
      "source": [
        "<a href=\"https://colab.research.google.com/github/amashurockz60/AlgorothmDS/blob/master/SDE.ipynb\" target=\"_parent\"><img src=\"https://colab.research.google.com/assets/colab-badge.svg\" alt=\"Open In Colab\"/></a>"
      ]
    },
    {
      "cell_type": "code",
      "metadata": {
        "id": "ZoQkxhrY5yhE"
      },
      "source": [
        "# Sort an array of 0’s 1’s 2’s without using extra space or sorting algo\r\n",
        "# left of low --> 0\r\n",
        "# right of high --> 2\r\n",
        "# left to mid -1 --> 1\r\n",
        "# Dutch Flag algorithm\r\n",
        "# Time : O(N), Space : O(1)\r\n",
        "def sortArray(arr):\r\n",
        "  left = mid = 0\r\n",
        "  right = len(arr) - 1\r\n",
        "  while(mid <= right):\r\n",
        "    if(arr[mid] == 0):\r\n",
        "      arr[left], arr[mid] = arr[mid], arr[left]\r\n",
        "      left += 1\r\n",
        "      mid += 1\r\n",
        "    elif(arr[mid] == 1):\r\n",
        "      mid += 1\r\n",
        "    else:\r\n",
        "      arr[right], arr[mid] = arr[mid], arr[right]\r\n",
        "      right -= 1\r\n",
        "  return arr"
      ],
      "execution_count": null,
      "outputs": []
    }
  ]
}