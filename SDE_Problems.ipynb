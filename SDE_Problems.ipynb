{
  "nbformat": 4,
  "nbformat_minor": 0,
  "metadata": {
    "colab": {
      "name": "Untitled0.ipynb",
      "provenance": [],
      "authorship_tag": "ABX9TyMMluNi6HnRDYn8XkC368xQ",
      "include_colab_link": true
    },
    "kernelspec": {
      "name": "python3",
      "display_name": "Python 3"
    }
  },
  "cells": [
    {
      "cell_type": "markdown",
      "metadata": {
        "id": "view-in-github",
        "colab_type": "text"
      },
      "source": [
        "<a href=\"https://colab.research.google.com/github/amashurockz60/AlgorothmDS/blob/master/SDE_Problems.ipynb\" target=\"_parent\"><img src=\"https://colab.research.google.com/assets/colab-badge.svg\" alt=\"Open In Colab\"/></a>"
      ]
    },
    {
      "cell_type": "code",
      "metadata": {
        "id": "ZoQkxhrY5yhE"
      },
      "source": [
        "# Sort an array of 0’s 1’s 2’s without using extra space or sorting algo\r\n",
        "# left of low --> 0\r\n",
        "# right of high --> 2\r\n",
        "# left to mid -1 --> 1\r\n",
        "# Dutch Flag algorithm\r\n",
        "# Time : O(N), Space : O(1)\r\n",
        "def sortArray(arr):\r\n",
        "  left = mid = 0\r\n",
        "  right = len(arr) - 1\r\n",
        "  while(mid <= right):\r\n",
        "    if(arr[mid] == 0):\r\n",
        "      arr[left], arr[mid] = arr[mid], arr[left]\r\n",
        "      left += 1\r\n",
        "      mid += 1\r\n",
        "    elif(arr[mid] == 1):\r\n",
        "      mid += 1\r\n",
        "    else:\r\n",
        "      arr[right], arr[mid] = arr[mid], arr[right]\r\n",
        "      right -= 1\r\n",
        "  return arr"
      ],
      "execution_count": 1,
      "outputs": []
    },
    {
      "cell_type": "code",
      "metadata": {
        "id": "zFZizgGt6R5E"
      },
      "source": [
        "# find the missing and duplicate\r\n",
        "# 0 ^ 0 or 1 ^ 1 == 0\r\n",
        "# totalsum(n) - arraysum --> Missing - Duplicate --> X - Y\r\n",
        "# totalsumsquared(n ** 2) - arraysumsquared --> Missing ** 2 - Duplicate ** 2 --> X - Y\r\n",
        "# O(2N), O(1)\r\n",
        "def missingDuplicate(arr, n):\r\n",
        "  sum_n = (n * (n + 1)) // 2\r\n",
        "  sum_now = sum(arr)\r\n",
        "  sum_square_now = sum(map(lambda x : x ** 2, arr))\r\n",
        "  sum_square = (n * (n + 1) * (2 * n + 1)) // 6\r\n",
        "  subtract = sum_n - sum_now\r\n",
        "  squared_subtract = sum_square - sum_square_now\r\n",
        "  print(f\"{subtract}|{squared_subtract}\")\r\n",
        "  plus = squared_subtract // subtract\r\n",
        "  x = (plus + subtract) // 2\r\n",
        "  y = x - subtract\r\n",
        "  print(f\"Missing: {x}, Duplicate: {y}\")\r\n"
      ],
      "execution_count": 22,
      "outputs": []
    },
    {
      "cell_type": "code",
      "metadata": {
        "colab": {
          "base_uri": "https://localhost:8080/"
        },
        "id": "kGYwSUceC3Er",
        "outputId": "ee4812ae-a4df-4bb6-f8dc-dfad51faf6be"
      },
      "source": [
        "missingDuplicate([1,2,5,4,5,6], 6)"
      ],
      "execution_count": 24,
      "outputs": [
        {
          "output_type": "stream",
          "text": [
            "-2|-16\n",
            "Missing: 3, Duplicate: 5\n",
            "Missing: 3, Duplicate: 5\n"
          ],
          "name": "stdout"
        }
      ]
    },
    {
      "cell_type": "markdown",
      "metadata": {
        "id": "T6tI5xj5rviZ"
      },
      "source": [
        "1) Iterate through every element of ar2[] starting from last \r\n",
        "\r\n",
        "   element. Do following for every element ar2[i]\r\n",
        "\r\n",
        "    a) Store last element of ar1[i]: last = ar1[i]\r\n",
        "\r\n",
        "    b) Loop from last element of ar1[] while element ar1[j] is \r\n",
        "\r\n",
        "       greater than ar2[i].\r\n",
        "\r\n",
        "          ar1[j+1] = ar1[j] // Move element one position ahead\r\n",
        "\r\n",
        "          j--\r\n",
        "\r\n",
        "    c) If any element of ar1[] was moved or (j != m-1)\r\n",
        "\r\n",
        "          ar1[j+1] = ar2[i] \r\n",
        "\r\n",
        "          ar2[i] = last\r\n"
      ]
    },
    {
      "cell_type": "code",
      "metadata": {
        "id": "7-iqVyJNfGKZ"
      },
      "source": [
        "# O(M * N)\r\n",
        "def merge(arr1,arr2,n,m):\r\n",
        "        #code here\r\n",
        "        for i in range(m -1, -1, -1):\r\n",
        "            last = arr1[n - 1]\r\n",
        "            j = n - 2\r\n",
        "            while(j >= 0 and arr1[j] > arr2[i]):\r\n",
        "                arr1[j + 1] = arr1[j]\r\n",
        "                j -= 1\r\n",
        "            if(j != n - 2 or last > arr2[i]):\r\n",
        "                arr1[j + 1] = arr2[i]\r\n",
        "                arr2[i] = last"
      ],
      "execution_count": 42,
      "outputs": []
    },
    {
      "cell_type": "code",
      "metadata": {
        "colab": {
          "base_uri": "https://localhost:8080/"
        },
        "id": "eTvlfVvWr03G",
        "outputId": "b4db2c13-0a10-4677-ce59-640705526b8a"
      },
      "source": [
        "arr1 = [1, 5, 9, 10, 15, 20]\r\n",
        "arr2 = [2, 3, 8, 13]\r\n",
        "merge(arr1, arr2, 6, 4)\r\n",
        "print(arr1)\r\n",
        "print(arr2)"
      ],
      "execution_count": 43,
      "outputs": [
        {
          "output_type": "stream",
          "text": [
            "[1, 2, 3, 5, 8, 9]\n",
            "[10, 13, 15, 20]\n"
          ],
          "name": "stdout"
        }
      ]
    },
    {
      "cell_type": "code",
      "metadata": {
        "id": "4yk9wOXqsEMF"
      },
      "source": [
        " def rotate(matrix):\r\n",
        "        \"\"\"\r\n",
        "        Do not return anything, modify matrix in-place instead.\r\n",
        "        \"\"\"\r\n",
        "        for i in range(len(matrix) // 2):\r\n",
        "            for j in range(len(matrix[0])):\r\n",
        "                matrix[i][j], matrix[j][i] = matrix[j][i], matrix[i][j]\r\n",
        "            for i in matrix:\r\n",
        "              print(i)\r\n",
        "            print(\"===========\")\r\n",
        "        for i in range(len(matrix)):\r\n",
        "            for j in range(len(matrix[0]) // 2):\r\n",
        "                matrix[i][j], matrix[i][len(matrix[0]) - 1 - j] = matrix[i][len(matrix[0]) - 1 - j], matrix[i][j]"
      ],
      "execution_count": 45,
      "outputs": []
    },
    {
      "cell_type": "code",
      "metadata": {
        "colab": {
          "base_uri": "https://localhost:8080/"
        },
        "id": "D03VCRVj3tZo",
        "outputId": "fb0082e6-132a-416c-f5b7-c0d6574d50da"
      },
      "source": [
        "#rotate()\r\n",
        "matrix = [[1,2,3],[4,5,6],[7,8,9]]\r\n",
        "for i in range(len(matrix)):\r\n",
        "  for j in range(i + 1, len(matrix[0])):\r\n",
        "    matrix[i][j], matrix[j][i] = matrix[j][i], matrix[i][j]\r\n",
        "  for k in matrix:\r\n",
        "    print(k)\r\n",
        "  print(\"===========\")\r\n",
        "print(matrix)"
      ],
      "execution_count": 50,
      "outputs": [
        {
          "output_type": "stream",
          "text": [
            "[1, 4, 7]\n",
            "[2, 5, 6]\n",
            "[3, 8, 9]\n",
            "===========\n",
            "[1, 4, 7]\n",
            "[2, 5, 8]\n",
            "[3, 6, 9]\n",
            "===========\n",
            "[1, 4, 7]\n",
            "[2, 5, 8]\n",
            "[3, 6, 9]\n",
            "===========\n",
            "[[1, 4, 7], [2, 5, 8], [3, 6, 9]]\n"
          ],
          "name": "stdout"
        }
      ]
    },
    {
      "cell_type": "code",
      "metadata": {
        "id": "dJFFn8gT4A7Q"
      },
      "source": [
        ""
      ],
      "execution_count": null,
      "outputs": []
    }
  ]
}