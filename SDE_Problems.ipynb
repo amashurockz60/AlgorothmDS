{
  "nbformat": 4,
  "nbformat_minor": 0,
  "metadata": {
    "colab": {
      "name": "Untitled0.ipynb",
      "provenance": [],
      "authorship_tag": "ABX9TyNdtyI8BE9cgEb9ofAxHdAC",
      "include_colab_link": true
    },
    "kernelspec": {
      "name": "python3",
      "display_name": "Python 3"
    }
  },
  "cells": [
    {
      "cell_type": "markdown",
      "metadata": {
        "id": "view-in-github",
        "colab_type": "text"
      },
      "source": [
        "<a href=\"https://colab.research.google.com/github/amashurockz60/AlgorothmDS/blob/master/Untitled0.ipynb\" target=\"_parent\"><img src=\"https://colab.research.google.com/assets/colab-badge.svg\" alt=\"Open In Colab\"/></a>"
      ]
    },
    {
      "cell_type": "code",
      "metadata": {
        "id": "ZoQkxhrY5yhE"
      },
      "source": [
        "# Sort an array of 0’s 1’s 2’s without using extra space or sorting algo\r\n",
        "# left of low --> 0\r\n",
        "# right of high --> 2\r\n",
        "# left to mid -1 --> 1\r\n",
        "# Dutch Flag algorithm\r\n",
        "# Time : O(N), Space : O(1)\r\n",
        "def sortArray(arr):\r\n",
        "  left = mid = 0\r\n",
        "  right = len(arr) - 1\r\n",
        "  while(mid <= right):\r\n",
        "    if(arr[mid] == 0):\r\n",
        "      arr[left], arr[mid] = arr[mid], arr[left]\r\n",
        "      left += 1\r\n",
        "      mid += 1\r\n",
        "    elif(arr[mid] == 1):\r\n",
        "      mid += 1\r\n",
        "    else:\r\n",
        "      arr[right], arr[mid] = arr[mid], arr[right]\r\n",
        "      right -= 1\r\n",
        "  return arr"
      ],
      "execution_count": 1,
      "outputs": []
    },
    {
      "cell_type": "code",
      "metadata": {
        "id": "zFZizgGt6R5E"
      },
      "source": [
        "# find the missing and duplicate\r\n",
        "# 0 ^ 0 or 1 ^ 1 == 0\r\n",
        "# totalsum(n) - arraysum --> Missing - Duplicate --> X - Y\r\n",
        "# totalsumsquared(n ** 2) - arraysumsquared --> Missing ** 2 - Duplicate ** 2 --> X - Y\r\n",
        "# O(2N), O(1)\r\n",
        "def missingDuplicate(arr, n):\r\n",
        "  sum_n = (n * (n + 1)) // 2\r\n",
        "  sum_now = sum(arr)\r\n",
        "  sum_square_now = sum(map(lambda x : x ** 2, arr))\r\n",
        "  sum_square = (n * (n + 1) * (2 * n + 1)) // 6\r\n",
        "  subtract = sum_n - sum_now\r\n",
        "  squared_subtract = sum_square - sum_square_now\r\n",
        "  print(f\"{subtract}|{squared_subtract}\")\r\n",
        "  plus = squared_subtract // subtract\r\n",
        "  x = (plus + subtract) // 2\r\n",
        "  y = x - subtract\r\n",
        "  print(f\"Missing: {x}, Duplicate: {y}\")\r\n"
      ],
      "execution_count": 22,
      "outputs": []
    },
    {
      "cell_type": "code",
      "metadata": {
        "colab": {
          "base_uri": "https://localhost:8080/"
        },
        "id": "kGYwSUceC3Er",
        "outputId": "ee4812ae-a4df-4bb6-f8dc-dfad51faf6be"
      },
      "source": [
        "missingDuplicate([1,2,5,4,5,6], 6)"
      ],
      "execution_count": 24,
      "outputs": [
        {
          "output_type": "stream",
          "text": [
            "-2|-16\n",
            "Missing: 3, Duplicate: 5\n",
            "Missing: 3, Duplicate: 5\n"
          ],
          "name": "stdout"
        }
      ]
    },
    {
      "cell_type": "code",
      "metadata": {
        "id": "fnoHyem0FJgX"
      },
      "source": [
        ""
      ],
      "execution_count": null,
      "outputs": []
    }
  ]
}
